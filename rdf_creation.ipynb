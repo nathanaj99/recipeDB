{
 "cells": [
  {
   "cell_type": "code",
   "execution_count": 2,
   "metadata": {},
   "outputs": [],
   "source": [
    "import csv\n",
    "import json\n",
    "import re\n",
    "from collections import defaultdict\n",
    "import glob\n",
    "import os\n",
    "from rdflib import Graph, URIRef, Literal, XSD, Namespace, RDF"
   ]
  },
  {
   "cell_type": "code",
   "execution_count": 3,
   "metadata": {},
   "outputs": [
    {
     "data": {
      "text/plain": [
       "['data/processed_jl/nyt.jl',\n",
       " 'data/processed_jl/nyt_dinner.jl',\n",
       " 'data/processed_jl/epicurious_dinner.jl',\n",
       " 'data/processed_jl/epicurious_dessert.jl']"
      ]
     },
     "execution_count": 3,
     "metadata": {},
     "output_type": "execute_result"
    }
   ],
   "source": [
    "paths = glob.glob(\"data/processed_jl/*\")\n",
    "paths"
   ]
  },
  {
   "cell_type": "code",
   "execution_count": 11,
   "metadata": {},
   "outputs": [
    {
     "data": {
      "text/plain": [
       "<Graph identifier=N5d19fe52e18146eeafabf1fd410eb125 (<class 'rdflib.graph.Graph'>)>"
      ]
     },
     "execution_count": 11,
     "metadata": {},
     "output_type": "execute_result"
    }
   ],
   "source": [
    "kg = Graph()\n",
    "SCHEMA = Namespace(\"http://schema.org/\")\n",
    "RDFS = Namespace(\"http://www.w3.org/2000/01/rdf-schema#\")\n",
    "kg.parse(\"../recipe_model.ttl\", format=\"turtle\")"
   ]
  },
  {
   "cell_type": "code",
   "execution_count": 12,
   "metadata": {},
   "outputs": [],
   "source": [
    "for path in paths:\n",
    "    count = 0\n",
    "    for line in open(path,\"r\").readlines():\n",
    "        if count==4:\n",
    "            break\n",
    "        data = json.loads(line.strip())\n",
    "        node = URIRef(data[\"url\"])\n",
    "        kg.add((node,RDF.type,SCHEMA[\"Recipe\"]))\n",
    "        \n",
    "        kg.add((node,RDFS[\"label\"],Literal(data[\"recipe_name\"])))\n",
    "        \n",
    "        for i in data[\"ingredients\"]:\n",
    "            kg.add((node,SCHEMA[\"recipeIngredient\"],Literal(i)))\n",
    "        \n",
    "        r = URIRef(data[\"url\"]+\"/rating\")\n",
    "        kg.add((r,RDF.type,SCHEMA[\"AggregateRating\"]))\n",
    "        kg.add((r,SCHEMA[\"ratingValue\"],Literal(data[\"rating\"])))\n",
    "        kg.add((r,SCHEMA[\"bestRating\"],Literal(5.0, datatype=XSD.float)))\n",
    "        kg.add((node,SCHEMA[\"aggregateRating\"],r))\n",
    "        \n",
    "        steps = URIRef(data[\"url\"]+\"/steps\")\n",
    "        kg.add((steps,RDF.type,SCHEMA[\"ItemList\"]))\n",
    "        for i in data[\"steps\"]:\n",
    "            kg.add((steps,SCHEMA[\"itemListElement\"],Literal(i.strip())))\n",
    "        kg.add((node,SCHEMA[\"recipeInstructions\"],steps))\n",
    "        \n",
    "        tags = URIRef(data[\"url\"]+\"/tags\")\n",
    "        kg.add((tags,RDF.type,SCHEMA[\"ItemList\"]))\n",
    "        for i in data[\"tags\"]:\n",
    "            kg.add((tags,SCHEMA[\"itemListElement\"],Literal(i.strip())))\n",
    "        kg.add((node,SCHEMA[\"tags\"],tags))\n",
    "        \n",
    "        kg.add((node,SCHEMA[\"healthScore\"],Literal(data[\"health_score\"],datatype=XSD.float)))\n",
    "        \n",
    "        nut = URIRef(data[\"url\"]+\"/nutrition\")\n",
    "        kg.add((nut,RDF.type,SCHEMA[\"NutritionInformation\"]))\n",
    "        kg.add((nut,SCHEMA[\"calories\"],Literal(data[\"nutrition_total\"][\"calories\"])))\n",
    "        kg.add((nut,SCHEMA[\"fatContent\"],Literal(data[\"nutrition_total\"][\"total fat\"])))\n",
    "        kg.add((nut,SCHEMA[\"carbohydrateContent\"],Literal(data[\"nutrition_total\"][\"carbs\"])))\n",
    "        kg.add((nut,SCHEMA[\"sugarContent\"],Literal(data[\"nutrition_total\"][\"sugars\"])))\n",
    "        kg.add((nut,SCHEMA[\"proteinContent\"],Literal(data[\"nutrition_total\"][\"protein\"])))\n",
    "        kg.add((nut,SCHEMA[\"sodiumContent\"],Literal(data[\"nutrition_total\"][\"sodium\"])))\n",
    "        kg.add((nut,SCHEMA[\"fiberContent\"],Literal(data[\"nutrition_total\"][\"fiber\"])))\n",
    "        kg.add((nut,SCHEMA[\"saturatedFatContent\"],Literal(data[\"nutrition_total\"][\"saturated fat\"])))\n",
    "        kg.add((nut,SCHEMA[\"transFatContent\"],Literal(data[\"nutrition_total\"][\"trans fat\"])))\n",
    "        kg.add((nut,SCHEMA[\"monounsaturatedFatContent\"],Literal(data[\"nutrition_total\"][\"monounsaturated fat\"])))\n",
    "        kg.add((nut,SCHEMA[\"polyunsaturatedFatContent\"],Literal(data[\"nutrition_total\"][\"polyunsaturated fat\"])))\n",
    "        kg.add((nut,SCHEMA[\"cholesterolContent\"],Literal(data[\"nutrition_total\"][\"cholesterol\"])))\n",
    "        kg.add((nut,SCHEMA[\"calciumContent\"],Literal(data[\"nutrition_total\"][\"calcium\"])))\n",
    "        kg.add((nut,SCHEMA[\"magnesiumContent\"],Literal(data[\"nutrition_total\"][\"magnesium\"])))\n",
    "        kg.add((nut,SCHEMA[\"potassiumContent\"],Literal(data[\"nutrition_total\"][\"potassium\"])))\n",
    "        kg.add((nut,SCHEMA[\"ironContent\"],Literal(data[\"nutrition_total\"][\"iron\"])))\n",
    "        kg.add((nut,SCHEMA[\"zincContent\"],Literal(data[\"nutrition_total\"][\"zinc\"])))\n",
    "        kg.add((nut,SCHEMA[\"phosphorusContent\"],Literal(data[\"nutrition_total\"][\"phosphorus\"])))\n",
    "        kg.add((nut,SCHEMA[\"vitaminAContent\"],Literal(data[\"nutrition_total\"][\"vitamin a\"])))\n",
    "        kg.add((nut,SCHEMA[\"vitaminCContent\"],Literal(data[\"nutrition_total\"][\"vitamin c\"])))\n",
    "        kg.add((nut,SCHEMA[\"thiaminB1Content\"],Literal(data[\"nutrition_total\"][\"thiamin b1\"])))\n",
    "        kg.add((nut,SCHEMA[\"riboflavinB2Content\"],Literal(data[\"nutrition_total\"][\"riboflavin b2\"])))\n",
    "        kg.add((nut,SCHEMA[\"niacinB3Content\"],Literal(data[\"nutrition_total\"][\"niacin b3\"])))\n",
    "        kg.add((nut,SCHEMA[\"vitaminB6Content\"],Literal(data[\"nutrition_total\"][\"vitabin b6\"])))\n",
    "        kg.add((nut,SCHEMA[\"folicAcidContent\"],Literal(data[\"nutrition_total\"][\"folic acid\"])))\n",
    "        kg.add((nut,SCHEMA[\"vitaminB12Content\"],Literal(data[\"nutrition_total\"][\"vitamin b12\"])))\n",
    "        kg.add((nut,SCHEMA[\"vitaminDContent\"],Literal(data[\"nutrition_total\"][\"vitamin d\"])))\n",
    "        kg.add((nut,SCHEMA[\"vitaminEContent\"],Literal(data[\"nutrition_total\"][\"vitamin e\"])))\n",
    "        kg.add((nut,SCHEMA[\"vitaminKContent\"],Literal(data[\"nutrition_total\"][\"vitamin k\"])))\n",
    "        \n",
    "        kg.add((nut,SCHEMA[\"caloriesDV\"],Literal(data[\"nutrition_dv\"][\"calories\"],datatype=XSD.float)))\n",
    "        kg.add((nut,SCHEMA[\"fatContentDV\"],Literal(data[\"nutrition_dv\"][\"total fat\"],datatype=XSD.float)))\n",
    "        kg.add((nut,SCHEMA[\"carbohydrateContentDV\"],Literal(data[\"nutrition_dv\"][\"carbs\"],datatype=XSD.float)))\n",
    "        kg.add((nut,SCHEMA[\"sugarContentDV\"],Literal(data[\"nutrition_dv\"][\"sugars\"],datatype=XSD.float)))\n",
    "        kg.add((nut,SCHEMA[\"proteinContentDV\"],Literal(data[\"nutrition_dv\"][\"protein\"],datatype=XSD.float)))\n",
    "        kg.add((nut,SCHEMA[\"sodiumContentDV\"],Literal(data[\"nutrition_dv\"][\"sodium\"],datatype=XSD.float)))\n",
    "        kg.add((nut,SCHEMA[\"fiberContentDV\"],Literal(data[\"nutrition_dv\"][\"fiber\"],datatype=XSD.float)))\n",
    "        kg.add((nut,SCHEMA[\"saturatedFatContentDV\"],Literal(data[\"nutrition_dv\"][\"saturated fat\"],datatype=XSD.float)))\n",
    "        kg.add((nut,SCHEMA[\"transFatContentDV\"],Literal(data[\"nutrition_dv\"][\"trans fat\"],datatype=XSD.float)))\n",
    "        kg.add((nut,SCHEMA[\"monounsaturatedFatContentDV\"],Literal(data[\"nutrition_dv\"][\"monounsaturated fat\"],datatype=XSD.float)))\n",
    "        kg.add((nut,SCHEMA[\"polyunsaturatedFatContentDV\"],Literal(data[\"nutrition_dv\"][\"polyunsaturated fat\"],datatype=XSD.float)))\n",
    "        kg.add((nut,SCHEMA[\"cholesterolContentDV\"],Literal(data[\"nutrition_dv\"][\"cholesterol\"],datatype=XSD.float)))\n",
    "        kg.add((nut,SCHEMA[\"calciumContentDV\"],Literal(data[\"nutrition_dv\"][\"calcium\"],datatype=XSD.float)))\n",
    "        kg.add((nut,SCHEMA[\"magnesiumContentDV\"],Literal(data[\"nutrition_dv\"][\"magnesium\"],datatype=XSD.float)))\n",
    "        kg.add((nut,SCHEMA[\"potassiumContentDV\"],Literal(data[\"nutrition_dv\"][\"potassium\"],datatype=XSD.float)))\n",
    "        kg.add((nut,SCHEMA[\"ironContentDV\"],Literal(data[\"nutrition_dv\"][\"iron\"],datatype=XSD.float)))\n",
    "        kg.add((nut,SCHEMA[\"zincContentDV\"],Literal(data[\"nutrition_dv\"][\"zinc\"],datatype=XSD.float)))\n",
    "        kg.add((nut,SCHEMA[\"phosphorusContentDV\"],Literal(data[\"nutrition_dv\"][\"phosphorus\"],datatype=XSD.float)))\n",
    "        kg.add((nut,SCHEMA[\"vitaminAContentDV\"],Literal(data[\"nutrition_dv\"][\"vitamin a\"],datatype=XSD.float)))\n",
    "        kg.add((nut,SCHEMA[\"vitaminCContentDV\"],Literal(data[\"nutrition_dv\"][\"vitamin c\"],datatype=XSD.float)))\n",
    "        kg.add((nut,SCHEMA[\"thiaminB1ContentDV\"],Literal(data[\"nutrition_dv\"][\"thiamin b1\"],datatype=XSD.float)))\n",
    "        kg.add((nut,SCHEMA[\"riboflavinB2ContentDV\"],Literal(data[\"nutrition_dv\"][\"riboflavin b2\"],datatype=XSD.float)))\n",
    "        kg.add((nut,SCHEMA[\"niacinB3ContentDV\"],Literal(data[\"nutrition_dv\"][\"niacin b3\"],datatype=XSD.float)))\n",
    "        kg.add((nut,SCHEMA[\"vitaminB6ContentDV\"],Literal(data[\"nutrition_dv\"][\"vitabin b6\"],datatype=XSD.float)))\n",
    "        kg.add((nut,SCHEMA[\"folicAcidContentDV\"],Literal(data[\"nutrition_dv\"][\"folic acid\"],datatype=XSD.float)))\n",
    "        kg.add((nut,SCHEMA[\"vitaminB12ContentDV\"],Literal(data[\"nutrition_dv\"][\"vitamin b12\"],datatype=XSD.float)))\n",
    "        kg.add((nut,SCHEMA[\"vitaminDContentDV\"],Literal(data[\"nutrition_dv\"][\"vitamin d\"],datatype=XSD.float)))\n",
    "        kg.add((nut,SCHEMA[\"vitaminEContentDV\"],Literal(data[\"nutrition_dv\"][\"vitamin e\"],datatype=XSD.float)))\n",
    "        kg.add((nut,SCHEMA[\"vitaminKContentDV\"],Literal(data[\"nutrition_dv\"][\"vitamin k\"],datatype=XSD.float)))\n",
    "        kg.add((node,SCHEMA[\"nutrition\"],nut))\n",
    "        \n",
    "        if type(data[\"author\"])==str:\n",
    "            a = URIRef(data[\"url\"]+\"/author0\")\n",
    "            kg.add((a,RDF.type,SCHEMA[\"Person\"]))\n",
    "            kg.add((a,SCHEMA[\"name\"],Literal(data[\"author\"])))\n",
    "            kg.add((node,SCHEMA[\"author\"],a))\n",
    "        elif type(data[\"author\"])==list:\n",
    "            for i,u in enumerate(data[\"author\"]):\n",
    "                a = URIRef(data[\"url\"]+\"/author\"+str(i))\n",
    "                kg.add((a,RDF.type,SCHEMA[\"Person\"]))\n",
    "                kg.add((a,SCHEMA[\"name\"],Literal(u)))\n",
    "                kg.add((node,SCHEMA[\"author\"],a))\n",
    "        \n",
    "        count += 1\n",
    "kg.serialize(\"data/test.ttl\", format=\"turtle\")"
   ]
  },
  {
   "cell_type": "code",
   "execution_count": null,
   "metadata": {},
   "outputs": [],
   "source": []
  }
 ],
 "metadata": {
  "kernelspec": {
   "display_name": "Python 3",
   "language": "python",
   "name": "python3"
  },
  "language_info": {
   "codemirror_mode": {
    "name": "ipython",
    "version": 3
   },
   "file_extension": ".py",
   "mimetype": "text/x-python",
   "name": "python",
   "nbconvert_exporter": "python",
   "pygments_lexer": "ipython3",
   "version": "3.6.9"
  }
 },
 "nbformat": 4,
 "nbformat_minor": 2
}
